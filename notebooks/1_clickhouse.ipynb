{
 "cells": [
  {
   "cell_type": "markdown",
   "source": [
    "# Базовые операции с ClickHouse"
   ],
   "metadata": {
    "collapsed": false
   },
   "id": "6bd2f0d4681e82d1"
  },
  {
   "cell_type": "markdown",
   "source": [
    "## Синхронный клиент Clickhouse (clickhouse-driver)"
   ],
   "metadata": {
    "collapsed": false
   },
   "id": "9ce6bdfb09416c9a"
  },
  {
   "cell_type": "markdown",
   "source": [
    "Создание соединения"
   ],
   "metadata": {
    "collapsed": false
   },
   "id": "4142ed83b7a246d0"
  },
  {
   "cell_type": "code",
   "execution_count": 12,
   "outputs": [],
   "source": [
    "from clickhouse_driver import Client  \n",
    "  \n",
    "client = Client(host='localhost')"
   ],
   "metadata": {
    "collapsed": false,
    "ExecuteTime": {
     "end_time": "2024-03-30T07:51:40.327307399Z",
     "start_time": "2024-03-30T07:51:40.315502857Z"
    }
   },
   "id": "e42a555b88b31d74"
  },
  {
   "cell_type": "markdown",
   "source": [
    "Просмотр количества БД"
   ],
   "metadata": {
    "collapsed": false
   },
   "id": "9a9551eaf7850cb"
  },
  {
   "cell_type": "code",
   "execution_count": 13,
   "outputs": [
    {
     "data": {
      "text/plain": "[('INFORMATION_SCHEMA',),\n ('default',),\n ('example',),\n ('information_schema',),\n ('system',)]"
     },
     "execution_count": 13,
     "metadata": {},
     "output_type": "execute_result"
    }
   ],
   "source": [
    "client.execute('SHOW DATABASES')"
   ],
   "metadata": {
    "collapsed": false,
    "ExecuteTime": {
     "end_time": "2024-03-30T07:51:42.093558753Z",
     "start_time": "2024-03-30T07:51:42.065791798Z"
    }
   },
   "id": "189ceca1f5550e6a"
  },
  {
   "cell_type": "markdown",
   "source": [
    "Создание базы данных"
   ],
   "metadata": {
    "collapsed": false
   },
   "id": "46857d625f3b5e20"
  },
  {
   "cell_type": "code",
   "execution_count": 5,
   "outputs": [
    {
     "data": {
      "text/plain": "[('clickhouse-node1', 9000, 0, '', 3, 0),\n ('clickhouse-node3', 9000, 0, '', 2, 0),\n ('clickhouse-node2', 9000, 0, '', 1, 0),\n ('clickhouse-node4', 9000, 0, '', 0, 0)]"
     },
     "execution_count": 5,
     "metadata": {},
     "output_type": "execute_result"
    }
   ],
   "source": [
    "client.execute('CREATE DATABASE IF NOT EXISTS example ON CLUSTER company_cluster')"
   ],
   "metadata": {
    "collapsed": false,
    "ExecuteTime": {
     "end_time": "2024-03-30T07:45:50.471083690Z",
     "start_time": "2024-03-30T07:45:50.302203158Z"
    }
   },
   "id": "1646f765f01a7457"
  },
  {
   "cell_type": "markdown",
   "source": [
    "Создание таблицы"
   ],
   "metadata": {
    "collapsed": false
   },
   "id": "60b627a2b218e43b"
  },
  {
   "cell_type": "code",
   "execution_count": 6,
   "outputs": [
    {
     "data": {
      "text/plain": "[('clickhouse-node1', 9000, 0, '', 3, 0),\n ('clickhouse-node3', 9000, 0, '', 2, 0),\n ('clickhouse-node4', 9000, 0, '', 1, 0),\n ('clickhouse-node2', 9000, 0, '', 0, 0)]"
     },
     "execution_count": 6,
     "metadata": {},
     "output_type": "execute_result"
    }
   ],
   "source": [
    "client.execute(\"\"\"  \n",
    "    CREATE TABLE IF NOT EXISTS example.regular_table ON CLUSTER company_cluster (\n",
    "        id Int64,\n",
    "        x Int32  \n",
    "    ) Engine=MergeTree() ORDER BY id\n",
    "\"\"\")"
   ],
   "metadata": {
    "collapsed": false,
    "ExecuteTime": {
     "end_time": "2024-03-30T07:46:45.553336046Z",
     "start_time": "2024-03-30T07:46:45.415192874Z"
    }
   },
   "id": "642ccc3e49d2c387"
  },
  {
   "cell_type": "markdown",
   "source": [
    "Ввод данных"
   ],
   "metadata": {
    "collapsed": false
   },
   "id": "c8c0be594d4eb13d"
  },
  {
   "cell_type": "code",
   "execution_count": 10,
   "outputs": [
    {
     "data": {
      "text/plain": "[]"
     },
     "execution_count": 10,
     "metadata": {},
     "output_type": "execute_result"
    }
   ],
   "source": [
    "client.execute(\"\"\"  \n",
    "    INSERT INTO example.regular_table (id, x) VALUES \n",
    "       (1, 20), \n",
    "       (2, 20)\n",
    "\"\"\")"
   ],
   "metadata": {
    "collapsed": false,
    "ExecuteTime": {
     "end_time": "2024-03-30T07:48:43.005429587Z",
     "start_time": "2024-03-30T07:48:42.989328911Z"
    }
   },
   "id": "87ee61b117173c7"
  },
  {
   "cell_type": "markdown",
   "source": [
    "Чтение данных"
   ],
   "metadata": {
    "collapsed": false
   },
   "id": "f799149e58c24f41"
  },
  {
   "cell_type": "code",
   "execution_count": 14,
   "outputs": [
    {
     "data": {
      "text/plain": "[(1, 20), (2, 20), (1, 20), (2, 20)]"
     },
     "execution_count": 14,
     "metadata": {},
     "output_type": "execute_result"
    }
   ],
   "source": [
    "client.execute('SELECT * FROM example.regular_table')"
   ],
   "metadata": {
    "collapsed": false,
    "ExecuteTime": {
     "end_time": "2024-03-30T07:51:56.681986168Z",
     "start_time": "2024-03-30T07:51:56.632068179Z"
    }
   },
   "id": "21836b5d30100835"
  }
 ],
 "metadata": {
  "kernelspec": {
   "display_name": "Python 3",
   "language": "python",
   "name": "python3"
  },
  "language_info": {
   "codemirror_mode": {
    "name": "ipython",
    "version": 2
   },
   "file_extension": ".py",
   "mimetype": "text/x-python",
   "name": "python",
   "nbconvert_exporter": "python",
   "pygments_lexer": "ipython2",
   "version": "2.7.6"
  }
 },
 "nbformat": 4,
 "nbformat_minor": 5
}
