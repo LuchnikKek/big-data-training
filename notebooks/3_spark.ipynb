{
 "cells": [
  {
   "cell_type": "markdown",
   "id": "b56ac14f",
   "metadata": {},
   "source": [
    "# Базовые операции со Spark (только в браузере, на 8899)"
   ]
  },
  {
   "cell_type": "markdown",
   "id": "263bd7d2",
   "metadata": {},
   "source": [
    "Создание соединения\n",
    "\n",
    "При \"ValueError: Cannot run multiple SparkContexts at once; existing SparkContext(app...\" \n",
    "просто не надо создавать контекст. Он уже существует."
   ]
  },
  {
   "cell_type": "code",
   "execution_count": null,
   "id": "deee29cd",
   "metadata": {},
   "outputs": [],
   "source": [
    "import pyspark\n",
    "\n",
    "conf = pyspark.SparkConf()\n",
    "conf.setMaster('spark://spark-master:7077')\n",
    "spark_context = pyspark.SparkContext(conf=conf)"
   ]
  },
  {
   "cell_type": "markdown",
   "id": "7e979a41",
   "metadata": {},
   "source": [
    "Поиск всех нечётных чисел в массиве из 10000 элементов:\n",
    "\n",
    "1. Получаем generator, т.к. range возвращает генератор, а не лист.\n",
    "2. Создаётся RDD-структура. Вызов `.parallelize(biglist, 2)` превращает массив `big_list` в распределённый для дальнейшей работы в кластере. Второй аргумент 2 — это количество частей, на которые делятся данные.\n",
    "3. Создаётся фильтр только по чётным числам. lambda-функция детерминированная.\n",
    "4. Метод `.take(5)` возвращает кластер первые 5 результатов работы."
   ]
  },
  {
   "cell_type": "code",
   "execution_count": null,
   "id": "2edab159",
   "metadata": {},
   "outputs": [],
   "source": [
    "big_list = range(10000)\n",
    "\n",
    "rdd = spark_context.parallelize(big_list, 2)\n",
    "\n",
    "odds = rdd.filter(lambda x: x % 2 != 0)\n",
    "\n",
    "print(odds.take(5))"
   ]
  }
 ],
 "metadata": {
  "kernelspec": {
   "display_name": "Python 3",
   "language": "python",
   "name": "python3"
  },
  "language_info": {
   "codemirror_mode": {
    "name": "ipython",
    "version": 3
   },
   "file_extension": ".py",
   "mimetype": "text/x-python",
   "name": "python",
   "nbconvert_exporter": "python",
   "pygments_lexer": "ipython3",
   "version": "3.6.9"
  }
 },
 "nbformat": 4,
 "nbformat_minor": 5
}
